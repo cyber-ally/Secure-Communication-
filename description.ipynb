{
 "cells": [
  {
   "cell_type": "code",
   "execution_count": 0,
   "metadata": {},
   "outputs": [],
   "source": []
  },
  {
   "cell_type": "markdown",
   "metadata": {},
   "source": [
    "#### Project 6\n",
    "\n",
    "In this project you will simulate secure communication between two parties. There are two roles: A _sender_ and a _receiver_. The sender wants to do the following things:\n",
    "\n",
    "1. Digitally sign a message (file) using [RSA PSS](https://en.wikipedia.org/wiki/Probabilistic_signature_scheme) to produce a file called `msg.sig`.\n",
    "1. Encrypt the message using AES with a 128 bit key $K$ to produce a file called `msg.crypt`.\n",
    "1. Encrypt $K$ using RSA with the receiver's public key and save to a file called `symkey.crypt`.\n",
    "1. \"Transmit\" `msg.sig`,`msg.crypt`,`sym.key` (you don't actually have to do anything for this step).\n",
    "\n",
    "The receiver wants to do the following:\n",
    "\n",
    "1. Use her private key to decrypt `symkey.crypt` to produce `symkey`.\n",
    "1. Use `symkey` to decrypt `msg.crypt` to produce `msg`.\n",
    "1. Use the sender's public key to verify that `msg.sig` is a valid signature for `msg`.\n",
    "\n",
    "You should produce two applications that work from the command line: **send** and **receive**.\n",
    "\n",
    "The **send** program should take three command line inputs, all of which are filenames:\n",
    "\n",
    "1. The name of the message file.\n",
    "2. The name of the sender's private key file (for signing).\n",
    "3. The name of the receiver's private key file (for encrypting the symmetric key).\n",
    "\n",
    "There is code below that you can adapt for producing RSA keys (public and private) as well as a cryptographically secure 128 bit AES key.\n",
    "\n",
    "Please name you files as follows. **Please actually use these names:) (many people don't but you _must_).**\n",
    "\n",
    "1. Call the AES key file `symkey`.\n",
    "1. Call the sender's private key `send_priv.der` (we will use keys in the DER format).\n",
    "1. Call the sender's public key `send_pub.der`.\n",
    "1. Call the receiver's private key `rec_priv.der`.\n",
    "1. Call the receiver's public key `rec_pub.der`.\n",
    "\n",
    "The **receive** program should take three command line inputs, all of which are file"
   ]
  },
  {
   "cell_type": "code",
   "execution_count": 1,
   "metadata": {},
   "outputs": [],
   "source": [
    "### Warning:  Kernel must be Python 3 (System Wide)\n",
    "### Select this from Kernel pulldown menu in Cocalc\n"
   ]
  },
  {
   "cell_type": "code",
   "execution_count": 0,
   "metadata": {},
   "outputs": [],
   "source": [
    "\n"
   ]
  },
  {
   "cell_type": "code",
   "execution_count": 2,
   "metadata": {},
   "outputs": [
    {
     "name": "stdout",
     "output_type": "stream",
     "text": [
      "Generating RSA private key, 2048 bit long modulus (2 primes)\n",
      ".................................................+++++\n",
      "................................................+++++\n",
      "e is 65537 (0x010001)\n",
      "writing RSA key\n",
      "writing RSA key\n"
     ]
    }
   ],
   "source": [
    "!openssl genrsa -out private.pem 2048\n",
    "!openssl rsa -in private.pem -out private.der -outform DER\n",
    "!openssl rsa -in private.pem -outform DER -pubout -out public.der\n",
    "!openssl rand 16 > aes.key"
   ]
  },
  {
   "cell_type": "code",
   "execution_count": 3,
   "metadata": {},
   "outputs": [],
   "source": [
    "\n",
    "### Adapted from\n",
    "### https://support.ssl.com/Knowledgebase/Article/View/19/0/der-vs-crt-vs-cer-vs-pem-certificates-and-how-to-convert-them\n",
    "### and\n",
    "### https://pycryptodome.readthedocs.io/en/latest/src/signature/pkcs1_pss.html\n",
    "\n"
   ]
  },
  {
   "cell_type": "code",
   "execution_count": 0,
   "metadata": {},
   "outputs": [],
   "source": []
  },
  {
   "cell_type": "code",
   "execution_count": 0,
   "metadata": {},
   "outputs": [],
   "source": [
    "\n",
    "\n",
    "\n"
   ]
  },
  {
   "cell_type": "code",
   "execution_count": 9,
   "metadata": {},
   "outputs": [
    {
     "data": {
      "text/plain": [
       "b'D\\xb7\\x8f\\xc3C6\\xa2a\"l\\xa0\\xac@\\x93\\xf5\\x89\\x82\\x08\\x13\\x9e\\xea@\\\\\\xab\\xa7u\\xca\\xd7WmC<5P\\x02\\xd4F\\x99\\xe7e\\x80\\x8b\\xc3i8\\xa7\\x14zE\\xefz\\xf8\\xab\\xe0 4\\xe7\\xd1q\\x0e\\x9d\\xbb\\xf5*\\xf2\\x93^q\\x081\\xb5z\\xaf\\x80\\xda\\xcf\\xf6p;\\x05@\\x1ek\\x7f\\xdb\\xc8\\x12+5\\xac\\x95\\xf9\\x06d\\x03\\x01\\xa47\\x85\\xf9\\xf8H\\x92\\xe4u\\xbeQ\\x17\\xac\\xf8\\x8f\\xe9\\xc1\\x82\\x8a\\xbe\\x1dJ3+M\\x00N\\n-]\\xcbz\\xb9\\xa5\\xc1\\xbd\\xaa\\xf2\\x84\\x9a\\xb3\\xe5\\x8c\\xa0\\xdd\\xbe_\\xe5W\\xfa\\xbd6V\\xd9\\xf5)\\xcc\\x97\\x98g.\\xb6\\xd6%C\\x02\\xb8\\x11~+\\xd5_3\\xc0\\x99\\x1e\\x97>\\xd2A\\xaf\\x13VKe\\xc3P\\xa3\\x14\\xf9\\x0c\\xe4\\x95\\x94$,\\xdf0\\xdc\\xc6\\x9e\\xc1E\\\\\\xcb\\xe6\\xcb\\xdd\\xd61\\x8e\\xd3\\xe3\\xdf\\xcc\\xa2\\x87\\xf5Z\\x1e3\\x15 \\x84\\xf0\\xee\\xb3d[G/\"\\x15{\\x87\\x08\\xf0K7\\xd6\\rg\\xc8\\xf5&\\x0e\\x88K\\xbb\\xad\"~\\x01\\xe6\\xe9#\\xd6\\x9d\\x89@'"
      ]
     },
     "execution_count": 9,
     "metadata": {},
     "output_type": "execute_result"
    }
   ],
   "source": [
    "\n",
    "from Crypto.Signature import pss\n",
    "from Crypto.Hash import SHA256\n",
    "from Crypto.PublicKey import RSA\n",
    "from Crypto import Random\n",
    "\n",
    "message = open('msg.txt','r').read()\n",
    "\n",
    "\n",
    "def sign_message(message,privkeyfile_der):\n",
    "    key = RSA.import_key(open(privkeyfile_der,'rb').read())\n",
    "    h = SHA256.new(message.encode())\n",
    "    signature = pss.new(key).sign(h)\n",
    "    return signature\n",
    "    \n",
    "sig = sign_message(message,'send_priv.der')    \n",
    "sig"
   ]
  },
  {
   "cell_type": "code",
   "execution_count": 10,
   "metadata": {},
   "outputs": [
    {
     "name": "stdout",
     "output_type": "stream",
     "text": [
      "The signature is authentic.\n"
     ]
    }
   ],
   "source": [
    "\n",
    "\n",
    "def verify_sig(message,signature,pubkeyfile_der):\n",
    "    key = RSA.import_key(open(pubkeyfile_der,'rb').read())\n",
    "    h = SHA256.new(message.encode())\n",
    "    verifier = pss.new(key)\n",
    "    try:\n",
    "        verifier.verify(h, signature)\n",
    "        print( \"The signature is authentic.\")\n",
    "    except (ValueError, TypeError):\n",
    "        print( \"The signature is not authentic.\")\n",
    "\n",
    "verify_sig(message,sig,\"send_pub.der\")"
   ]
  },
  {
   "cell_type": "code",
   "execution_count": 17,
   "metadata": {},
   "outputs": [
    {
     "data": {
      "text/plain": [
       "b'\\x05g\\xffy\\xee/\\x8f\\xa8\\x99\\x88w\\xfc\\xcalp\\x96\\x04T\\xa0\\xc8\\x99$)\\xeb\\t\\xcc\\x12\\x183r\\x97e\\x14\\xa0+\\xae\\xb6\\x9b\\x844w\\xb0a\\x0fH@\\xb2d\\x88U\\xec\\x05\\xd2\\xe7k\\xa7.\\xeeh\\xa6\\x9d\\xb3\\r_\\xe5c\\xc7\\x02Y\\x17\\x9f\\x15\\xc4\\xf9\\xc8\\xa3\\xeaaS\\x89\\xd1\\x01\\xa2^\\xadR\\xf6$a\\xae\\xb8O\\x83\\rk=\\xe1\\x9b\\xc1\\xf2X\\x02m\\x98\\x1e\\xbaJ \\x1dR\\x1c\\xf7$\\xa0\\xae\\xb3\\xeeMj\\x8a\\xf2\\xaf\\x0b\\xccIEh\\\\\\xaa\\x96\\xec\\x8e\\x14\\xc4\\xd2A\\x93\\xcfCp\\xdc\\xae\\xd6\\x8e\\xcbNN4\\xe4\\x11d\\x01\\x9dx\\x0e\\xf2\\t\\x86\\t\\x0c\\xdf\\x19bSdO\\x9d\\xc6Z\\xd7\\xf9\\x05\\x04\\xbf\\xcd\\xe5\\xd2\\xbf\\x8d\\xaaI\\xf9\\x8b\\x7fWm{O\\xd8l\\x836\\xedO\\xb4u]FU\\x80\\xbe\\xccc\\x9d\\x968\\xf1\\x0bP\\xec\\xfb\\xaf\\xe2\\xab:/\\xc5\\xd7d\\\\\\xc5\\x88\\xeb\\xf18\\x160\\xb2\\x11~\\xcd\\xfe\\xfc\\x94\\xd3\\xc8n\\xcb\\xa6\\x11N\\x01A<$\\xce\\xc2\\x0f\\x11U\\xa2\\\\\\xffM\\x92\\xca'"
      ]
     },
     "execution_count": 17,
     "metadata": {},
     "output_type": "execute_result"
    }
   ],
   "source": [
    "from Crypto.Cipher import PKCS1_OAEP\n",
    "from Crypto.PublicKey import RSA\n",
    "from Crypto.Hash import SHA\n",
    "\n",
    "message = open(\"symkey\",'rb').read()\n",
    "\n",
    "def RSAencrypt(message,pubkeyfile_der):\n",
    "    key = RSA.importKey(open(pubkeyfile_der,'rb').read())\n",
    "    cipher = PKCS1_OAEP.new(key)  ### Padding Scheme\n",
    "    ciphertext = cipher.encrypt(message)\n",
    "    return ciphertext\n",
    "ciphertext = RSAencrypt(message,\"rec_pub.der\")\n",
    "ciphertext"
   ]
  },
  {
   "cell_type": "code",
   "execution_count": 20,
   "metadata": {},
   "outputs": [
    {
     "ename": "ValueError",
     "evalue": "Ciphertext too large",
     "output_type": "error",
     "traceback": [
      "\u001b[0;31m---------------------------------------------------------------------------\u001b[0m",
      "\u001b[0;31mValueError\u001b[0m                                Traceback (most recent call last)",
      "\u001b[0;32m<ipython-input-20-2b85ba70dc84>\u001b[0m in \u001b[0;36m<module>\u001b[0;34m\u001b[0m\n\u001b[1;32m     13\u001b[0m \u001b[0;34m\u001b[0m\u001b[0m\n\u001b[1;32m     14\u001b[0m \u001b[0mciphertext\u001b[0m \u001b[0;34m=\u001b[0m \u001b[0mopen\u001b[0m\u001b[0;34m(\u001b[0m\u001b[0;34m\"symkey.crypt\"\u001b[0m\u001b[0;34m,\u001b[0m\u001b[0;34m\"rb\"\u001b[0m\u001b[0;34m)\u001b[0m\u001b[0;34m.\u001b[0m\u001b[0mread\u001b[0m\u001b[0;34m(\u001b[0m\u001b[0;34m)\u001b[0m\u001b[0;34m\u001b[0m\u001b[0;34m\u001b[0m\u001b[0m\n\u001b[0;32m---> 15\u001b[0;31m \u001b[0mprint\u001b[0m\u001b[0;34m(\u001b[0m\u001b[0mRSAdecrypt\u001b[0m\u001b[0;34m(\u001b[0m\u001b[0mciphertext\u001b[0m\u001b[0;34m,\u001b[0m\u001b[0;34m\"send_priv.der\"\u001b[0m\u001b[0;34m)\u001b[0m\u001b[0;34m)\u001b[0m\u001b[0;34m\u001b[0m\u001b[0;34m\u001b[0m\u001b[0m\n\u001b[0m",
      "\u001b[0;32m<ipython-input-20-2b85ba70dc84>\u001b[0m in \u001b[0;36mRSAdecrypt\u001b[0;34m(ciphertext, privatekey_der)\u001b[0m\n\u001b[1;32m      9\u001b[0m     \u001b[0;31m#sentinel = Random.new().read(15+dsize)      # Let's assume that average data length is 15\u001b[0m\u001b[0;34m\u001b[0m\u001b[0;34m\u001b[0m\u001b[0;34m\u001b[0m\u001b[0m\n\u001b[1;32m     10\u001b[0m     \u001b[0mcipher\u001b[0m \u001b[0;34m=\u001b[0m \u001b[0mPKCS1_OAEP\u001b[0m\u001b[0;34m.\u001b[0m\u001b[0mnew\u001b[0m\u001b[0;34m(\u001b[0m\u001b[0mkey\u001b[0m\u001b[0;34m)\u001b[0m\u001b[0;34m\u001b[0m\u001b[0;34m\u001b[0m\u001b[0m\n\u001b[0;32m---> 11\u001b[0;31m     \u001b[0mmessage\u001b[0m \u001b[0;34m=\u001b[0m \u001b[0mcipher\u001b[0m\u001b[0;34m.\u001b[0m\u001b[0mdecrypt\u001b[0m\u001b[0;34m(\u001b[0m\u001b[0mciphertext\u001b[0m\u001b[0;34m)\u001b[0m\u001b[0;34m\u001b[0m\u001b[0;34m\u001b[0m\u001b[0m\n\u001b[0m\u001b[1;32m     12\u001b[0m     \u001b[0;32mreturn\u001b[0m \u001b[0mmessage\u001b[0m\u001b[0;34m\u001b[0m\u001b[0;34m\u001b[0m\u001b[0m\n\u001b[1;32m     13\u001b[0m \u001b[0;34m\u001b[0m\u001b[0m\n",
      "\u001b[0;32m/usr/local/lib/python3.6/dist-packages/Crypto/Cipher/PKCS1_OAEP.py\u001b[0m in \u001b[0;36mdecrypt\u001b[0;34m(self, ciphertext)\u001b[0m\n\u001b[1;32m    169\u001b[0m         \u001b[0mct_int\u001b[0m \u001b[0;34m=\u001b[0m \u001b[0mbytes_to_long\u001b[0m\u001b[0;34m(\u001b[0m\u001b[0mciphertext\u001b[0m\u001b[0;34m)\u001b[0m\u001b[0;34m\u001b[0m\u001b[0;34m\u001b[0m\u001b[0m\n\u001b[1;32m    170\u001b[0m         \u001b[0;31m# Step 2b (RSADP)\u001b[0m\u001b[0;34m\u001b[0m\u001b[0;34m\u001b[0m\u001b[0;34m\u001b[0m\u001b[0m\n\u001b[0;32m--> 171\u001b[0;31m         \u001b[0mm_int\u001b[0m \u001b[0;34m=\u001b[0m \u001b[0mself\u001b[0m\u001b[0;34m.\u001b[0m\u001b[0m_key\u001b[0m\u001b[0;34m.\u001b[0m\u001b[0m_decrypt\u001b[0m\u001b[0;34m(\u001b[0m\u001b[0mct_int\u001b[0m\u001b[0;34m)\u001b[0m\u001b[0;34m\u001b[0m\u001b[0;34m\u001b[0m\u001b[0m\n\u001b[0m\u001b[1;32m    172\u001b[0m         \u001b[0;31m# Complete step 2c (I2OSP)\u001b[0m\u001b[0;34m\u001b[0m\u001b[0;34m\u001b[0m\u001b[0;34m\u001b[0m\u001b[0m\n\u001b[1;32m    173\u001b[0m         \u001b[0mem\u001b[0m \u001b[0;34m=\u001b[0m \u001b[0mlong_to_bytes\u001b[0m\u001b[0;34m(\u001b[0m\u001b[0mm_int\u001b[0m\u001b[0;34m,\u001b[0m \u001b[0mk\u001b[0m\u001b[0;34m)\u001b[0m\u001b[0;34m\u001b[0m\u001b[0;34m\u001b[0m\u001b[0m\n",
      "\u001b[0;32m/usr/local/lib/python3.6/dist-packages/Crypto/PublicKey/RSA.py\u001b[0m in \u001b[0;36m_decrypt\u001b[0;34m(self, ciphertext)\u001b[0m\n\u001b[1;32m    147\u001b[0m     \u001b[0;32mdef\u001b[0m \u001b[0m_decrypt\u001b[0m\u001b[0;34m(\u001b[0m\u001b[0mself\u001b[0m\u001b[0;34m,\u001b[0m \u001b[0mciphertext\u001b[0m\u001b[0;34m)\u001b[0m\u001b[0;34m:\u001b[0m\u001b[0;34m\u001b[0m\u001b[0;34m\u001b[0m\u001b[0m\n\u001b[1;32m    148\u001b[0m         \u001b[0;32mif\u001b[0m \u001b[0;32mnot\u001b[0m \u001b[0;36m0\u001b[0m \u001b[0;34m<\u001b[0m \u001b[0mciphertext\u001b[0m \u001b[0;34m<\u001b[0m \u001b[0mself\u001b[0m\u001b[0;34m.\u001b[0m\u001b[0m_n\u001b[0m\u001b[0;34m:\u001b[0m\u001b[0;34m\u001b[0m\u001b[0;34m\u001b[0m\u001b[0m\n\u001b[0;32m--> 149\u001b[0;31m             \u001b[0;32mraise\u001b[0m \u001b[0mValueError\u001b[0m\u001b[0;34m(\u001b[0m\u001b[0;34m\"Ciphertext too large\"\u001b[0m\u001b[0;34m)\u001b[0m\u001b[0;34m\u001b[0m\u001b[0;34m\u001b[0m\u001b[0m\n\u001b[0m\u001b[1;32m    150\u001b[0m         \u001b[0;32mif\u001b[0m \u001b[0;32mnot\u001b[0m \u001b[0mself\u001b[0m\u001b[0;34m.\u001b[0m\u001b[0mhas_private\u001b[0m\u001b[0;34m(\u001b[0m\u001b[0;34m)\u001b[0m\u001b[0;34m:\u001b[0m\u001b[0;34m\u001b[0m\u001b[0;34m\u001b[0m\u001b[0m\n\u001b[1;32m    151\u001b[0m             \u001b[0;32mraise\u001b[0m \u001b[0mTypeError\u001b[0m\u001b[0;34m(\u001b[0m\u001b[0;34m\"This is not a private key\"\u001b[0m\u001b[0;34m)\u001b[0m\u001b[0;34m\u001b[0m\u001b[0;34m\u001b[0m\u001b[0m\n",
      "\u001b[0;31mValueError\u001b[0m: Ciphertext too large"
     ]
    }
   ],
   "source": [
    "from Crypto.Hash import SHA\n",
    "from Crypto import Random\n",
    "from Crypto.PublicKey import RSA\n",
    "from Crypto.Cipher import PKCS1_OAEP\n",
    "\n",
    "def RSAdecrypt(ciphertext,privatekey_der):\n",
    "    key = RSA.importKey(open(privatekey_der,'rb').read())\n",
    "    #dsize = SHA.digest_size\n",
    "    #sentinel = Random.new().read(15+dsize)      # Let's assume that average data length is 15\n",
    "    cipher = PKCS1_OAEP.new(key)\n",
    "    message = cipher.decrypt(ciphertext)\n",
    "    return message\n",
    "\n",
    "ciphertext = open(\"symkey.crypt\",\"rb\").read()\n",
    "print(RSAdecrypt(ciphertext,\"rec_priv.der\"))"
   ]
  },
  {
   "cell_type": "code",
   "execution_count": 0,
   "metadata": {},
   "outputs": [],
   "source": []
  },
  {
   "cell_type": "code",
   "execution_count": 0,
   "metadata": {},
   "outputs": [],
   "source": []
  }
 ],
 "metadata": {
  "kernelspec": {
   "display_name": "Python 3",
   "language": "python",
   "name": "python3"
  },
  "language_info": {
   "codemirror_mode": {
    "name": "ipython",
    "version": 3
   },
   "file_extension": ".py",
   "mimetype": "text/x-python",
   "name": "python",
   "nbconvert_exporter": "python",
   "pygments_lexer": "ipython3",
   "version": "3.7.3"
  }
 },
 "nbformat": 4,
 "nbformat_minor": 1
}
